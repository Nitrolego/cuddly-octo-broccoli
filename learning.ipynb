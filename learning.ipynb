{
  "nbformat": 4,
  "nbformat_minor": 0,
  "metadata": {
    "colab": {
      "provenance": [],
      "toc_visible": true,
      "authorship_tag": "ABX9TyMxG1inFXvS0Vs8sUUluIP4",
      "include_colab_link": true
    },
    "kernelspec": {
      "name": "python3",
      "display_name": "Python 3"
    },
    "language_info": {
      "name": "python"
    }
  },
  "cells": [
    {
      "cell_type": "markdown",
      "metadata": {
        "id": "view-in-github",
        "colab_type": "text"
      },
      "source": [
        "<a href=\"https://colab.research.google.com/github/Nitrolego/cuddly-octo-broccoli/blob/main/learning.ipynb\" target=\"_parent\"><img src=\"https://colab.research.google.com/assets/colab-badge.svg\" alt=\"Open In Colab\"/></a>"
      ]
    },
    {
      "cell_type": "markdown",
      "source": [
        "#Setup"
      ],
      "metadata": {
        "id": "e4SWzVbGz72Y"
      }
    },
    {
      "cell_type": "markdown",
      "source": [
        "not sure if this is needed to access scikit learn"
      ],
      "metadata": {
        "id": "6Y1IfJjh0X8F"
      }
    },
    {
      "cell_type": "code",
      "source": [
        "#asserts python version\n",
        "import sys\n",
        "assert sys.version_info >= (3, 7)\n",
        "\n",
        "#imports scikit-learn\n",
        "from packaging import version\n",
        "import sklearn\n",
        "\n",
        "assert version.parse(sklearn.__version__) >= version.parse(\"1.0.1\")"
      ],
      "metadata": {
        "id": "AR-ixqkwzZm8"
      },
      "execution_count": 1,
      "outputs": []
    },
    {
      "cell_type": "markdown",
      "source": [
        "loading datasets"
      ],
      "metadata": {
        "id": "qY9DA64C131x"
      }
    },
    {
      "cell_type": "code",
      "source": [
        "from sklearn.datasets import load_wine\n",
        "\n",
        "wine = load_wine()\n",
        "\n",
        "print(wine.data)"
      ],
      "metadata": {
        "colab": {
          "base_uri": "https://localhost:8080/"
        },
        "id": "jq0XYPHn2eJS",
        "outputId": "78278228-b3b3-49c0-fd5e-b71f169cd3c0"
      },
      "execution_count": 2,
      "outputs": [
        {
          "output_type": "stream",
          "name": "stdout",
          "text": [
            "[[1.423e+01 1.710e+00 2.430e+00 ... 1.040e+00 3.920e+00 1.065e+03]\n",
            " [1.320e+01 1.780e+00 2.140e+00 ... 1.050e+00 3.400e+00 1.050e+03]\n",
            " [1.316e+01 2.360e+00 2.670e+00 ... 1.030e+00 3.170e+00 1.185e+03]\n",
            " ...\n",
            " [1.327e+01 4.280e+00 2.260e+00 ... 5.900e-01 1.560e+00 8.350e+02]\n",
            " [1.317e+01 2.590e+00 2.370e+00 ... 6.000e-01 1.620e+00 8.400e+02]\n",
            " [1.413e+01 4.100e+00 2.740e+00 ... 6.100e-01 1.600e+00 5.600e+02]]\n"
          ]
        }
      ]
    },
    {
      "cell_type": "markdown",
      "source": [
        "# Machine learning project checklist\n",
        "1. Frame the problem and look at the big picture.\n",
        "2. Get the data.\n",
        "3. Explore the data to gain insights.\n",
        "4. Prepare the data to better expose the underlying data patterns to Machine Learn‐\n",
        "ing algorithms.\n",
        "5. Explore many different models and short-list the best ones.\n",
        "6. Fine-tune your models and combine them into a great solution.\n",
        "7. Present your solution.\n",
        "8. Launch, monitor, and maintain your system."
      ],
      "metadata": {
        "id": "luMJ_thm6YPF"
      }
    },
    {
      "cell_type": "markdown",
      "source": [
        "# 1. Frame the problem and look at the big picture\n",
        "1. Define the objective in business terms.\n",
        "2. How will your solution be used?\n",
        "3. What are the current solutions/workarounds (if any)?\n",
        "4. How should you frame this problem (supervised/unsupervised, online/offline,\n",
        "etc.)?\n",
        "\n",
        "supervised classification.\n",
        "\n",
        "5. How should performance be measured?\n",
        "\n",
        "accuracy of classification?\n",
        "\n",
        "6. Is the performance measure aligned with the business objective?\n",
        "7. What would be the minimum performance needed to reach the business objective?\n",
        "8. What are comparable problems? Can you reuse experience or tools?\n",
        "9. Is human expertise available?\n",
        "10. How would you solve the problem manually?\n",
        "11. List the assumptions you (or others) have made so far.\n",
        "12. Verify assumptions if possible."
      ],
      "metadata": {
        "id": "SWvtKZ7n6L8P"
      }
    },
    {
      "cell_type": "markdown",
      "source": [
        "# 2. Get the Data\n",
        "1. List the data you need and how much you need.\n",
        "2. Find and document where you can get that data.\n",
        "3. Check how much space it will take.\n",
        "4. Check legal obligations, and get authorization if necessary.\n",
        "5. Get access authorizations.\n",
        "6. Create a workspace (with enough storage space).\n",
        "7. Get the data.\n",
        "8. Convert the data to a format you can easily manipulate (without changing the\n",
        "data itself).\n",
        "9. Ensure sensitive information is deleted or protected (e.g., anonymized).\n",
        "10. Check the size and type of data (time series, sample, geographical, etc.).\n",
        "11. Sample a test set, put it aside, and never look at it (no data snooping!)"
      ],
      "metadata": {
        "id": "XoqzWpTc8PtT"
      }
    },
    {
      "cell_type": "code",
      "source": [
        "from sklearn.datasets import load_wine\n",
        "\n",
        "#loads wine dataset as a pandas dataframe\n",
        "winex, winey = load_wine(return_X_y=True, as_frame=True)\n",
        "\n",
        "winex.info\n",
        "#data needs to be a data matrix, in the dataframe to be able to do head/info/etc operations"
      ],
      "metadata": {
        "colab": {
          "base_uri": "https://localhost:8080/"
        },
        "id": "u50CAp1q9jah",
        "outputId": "27ed8f66-5793-4700-e188-6afcfc3d450f"
      },
      "execution_count": 17,
      "outputs": [
        {
          "output_type": "execute_result",
          "data": {
            "text/plain": [
              "<bound method DataFrame.info of      alcohol  malic_acid   ash  alcalinity_of_ash  magnesium  total_phenols  \\\n",
              "0      14.23        1.71  2.43               15.6      127.0           2.80   \n",
              "1      13.20        1.78  2.14               11.2      100.0           2.65   \n",
              "2      13.16        2.36  2.67               18.6      101.0           2.80   \n",
              "3      14.37        1.95  2.50               16.8      113.0           3.85   \n",
              "4      13.24        2.59  2.87               21.0      118.0           2.80   \n",
              "..       ...         ...   ...                ...        ...            ...   \n",
              "173    13.71        5.65  2.45               20.5       95.0           1.68   \n",
              "174    13.40        3.91  2.48               23.0      102.0           1.80   \n",
              "175    13.27        4.28  2.26               20.0      120.0           1.59   \n",
              "176    13.17        2.59  2.37               20.0      120.0           1.65   \n",
              "177    14.13        4.10  2.74               24.5       96.0           2.05   \n",
              "\n",
              "     flavanoids  nonflavanoid_phenols  proanthocyanins  color_intensity   hue  \\\n",
              "0          3.06                  0.28             2.29             5.64  1.04   \n",
              "1          2.76                  0.26             1.28             4.38  1.05   \n",
              "2          3.24                  0.30             2.81             5.68  1.03   \n",
              "3          3.49                  0.24             2.18             7.80  0.86   \n",
              "4          2.69                  0.39             1.82             4.32  1.04   \n",
              "..          ...                   ...              ...              ...   ...   \n",
              "173        0.61                  0.52             1.06             7.70  0.64   \n",
              "174        0.75                  0.43             1.41             7.30  0.70   \n",
              "175        0.69                  0.43             1.35            10.20  0.59   \n",
              "176        0.68                  0.53             1.46             9.30  0.60   \n",
              "177        0.76                  0.56             1.35             9.20  0.61   \n",
              "\n",
              "     od280/od315_of_diluted_wines  proline  \n",
              "0                            3.92   1065.0  \n",
              "1                            3.40   1050.0  \n",
              "2                            3.17   1185.0  \n",
              "3                            3.45   1480.0  \n",
              "4                            2.93    735.0  \n",
              "..                            ...      ...  \n",
              "173                          1.74    740.0  \n",
              "174                          1.56    750.0  \n",
              "175                          1.56    835.0  \n",
              "176                          1.62    840.0  \n",
              "177                          1.60    560.0  \n",
              "\n",
              "[178 rows x 13 columns]>"
            ]
          },
          "metadata": {},
          "execution_count": 17
        }
      ]
    },
    {
      "cell_type": "markdown",
      "source": [
        "178 data points.\n",
        "seperate, training and verify data.\n",
        "\n"
      ],
      "metadata": {
        "id": "i_q6hdyv_Pwr"
      }
    },
    {
      "cell_type": "markdown",
      "source": [
        "i can't seem to do any pandas operations, head, info, etc etc.\n",
        "\n",
        "why?"
      ],
      "metadata": {
        "id": "vwHiCokAC4os"
      }
    }
  ]
}